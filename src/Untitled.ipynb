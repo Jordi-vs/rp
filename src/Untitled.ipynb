{
 "cells": [
  {
   "cell_type": "code",
   "execution_count": 1,
   "id": "fac2ae2e-7a87-4f89-af37-1bdd667d6dbb",
   "metadata": {},
   "outputs": [],
   "source": [
    "import pipeline"
   ]
  },
  {
   "cell_type": "code",
   "execution_count": 3,
   "id": "7b84cc3f-6268-48d9-a1bc-31a8d2ef3c7d",
   "metadata": {},
   "outputs": [
    {
     "ename": "TypeError",
     "evalue": "'module' object is not callable",
     "output_type": "error",
     "traceback": [
      "\u001b[1;31m---------------------------------------------------------------------------\u001b[0m",
      "\u001b[1;31mTypeError\u001b[0m                                 Traceback (most recent call last)",
      "\u001b[1;32m~\\AppData\\Local\\Temp/ipykernel_21304/1150355636.py\u001b[0m in \u001b[0;36m<module>\u001b[1;34m\u001b[0m\n\u001b[1;32m----> 1\u001b[1;33m \u001b[0mpipeline\u001b[0m\u001b[1;33m(\u001b[0m\u001b[1;33m)\u001b[0m\u001b[1;33m\u001b[0m\u001b[1;33m\u001b[0m\u001b[0m\n\u001b[0m",
      "\u001b[1;31mTypeError\u001b[0m: 'module' object is not callable"
     ]
    }
   ],
   "source": [
    "pipeline()"
   ]
  },
  {
   "cell_type": "code",
   "execution_count": null,
   "id": "df8ab04b-9e20-450b-a688-c42e977ad05a",
   "metadata": {},
   "outputs": [],
   "source": [
    "for dir, subdir, files in os.walk(f\"../comics_data/dilbert_comics_png\"):\n",
    "    for file in files:\n",
    "        print(os.path.join(dir, file))"
   ]
  },
  {
   "cell_type": "code",
   "execution_count": 5,
   "id": "b799a9ec-d313-4e93-aae6-30eec22b77a2",
   "metadata": {},
   "outputs": [],
   "source": [
    "import os"
   ]
  },
  {
   "cell_type": "code",
   "execution_count": 7,
   "id": "36cea4d7-37d6-4b3b-9e47-016891aa3d0b",
   "metadata": {},
   "outputs": [
    {
     "ename": "TypeError",
     "evalue": "walk() missing 1 required positional argument: 'top'",
     "output_type": "error",
     "traceback": [
      "\u001b[1;31m---------------------------------------------------------------------------\u001b[0m",
      "\u001b[1;31mTypeError\u001b[0m                                 Traceback (most recent call last)",
      "\u001b[1;32m~\\AppData\\Local\\Temp/ipykernel_21304/30872981.py\u001b[0m in \u001b[0;36m<module>\u001b[1;34m\u001b[0m\n\u001b[1;32m----> 1\u001b[1;33m \u001b[0mos\u001b[0m\u001b[1;33m.\u001b[0m\u001b[0mwalk\u001b[0m\u001b[1;33m(\u001b[0m\u001b[1;33m)\u001b[0m\u001b[1;33m\u001b[0m\u001b[1;33m\u001b[0m\u001b[0m\n\u001b[0m",
      "\u001b[1;31mTypeError\u001b[0m: walk() missing 1 required positional argument: 'top'"
     ]
    }
   ],
   "source": [
    "os.walk(\"comics)"
   ]
  },
  {
   "cell_type": "code",
   "execution_count": 9,
   "id": "e3eefdce-2b92-4e94-bb1c-83ed2243a111",
   "metadata": {},
   "outputs": [],
   "source": [
    "import cv2"
   ]
  },
  {
   "cell_type": "code",
   "execution_count": 20,
   "id": "17f6a958-e925-47b8-92b4-eaec90814a02",
   "metadata": {},
   "outputs": [],
   "source": [
    "img = cv2.imread('../comics_data/dilbert_comics_png\\\\1989\\\\1989_1.png')"
   ]
  },
  {
   "cell_type": "code",
   "execution_count": 22,
   "id": "e437b4e5-6559-4fe2-9ef8-317ea34b12a8",
   "metadata": {},
   "outputs": [
    {
     "data": {
      "text/plain": [
       "False"
      ]
     },
     "execution_count": 22,
     "metadata": {},
     "output_type": "execute_result"
    }
   ],
   "source": [
    "cv2.imwrite('splitted-images/dilbert_comics_png\\\\1989\\\\1989_0_4.png', img)"
   ]
  },
  {
   "cell_type": "code",
   "execution_count": 21,
   "id": "4c4a8e2c-885f-4865-9fb9-1baedc005459",
   "metadata": {},
   "outputs": [
    {
     "data": {
      "text/plain": [
       "array([[[20, 17, 18],\n",
       "        [20, 17, 18],\n",
       "        [20, 17, 18],\n",
       "        ...,\n",
       "        [20, 17, 18],\n",
       "        [18, 20, 20],\n",
       "        [20, 17, 18]],\n",
       "\n",
       "       [[20, 17, 18],\n",
       "        [18, 20, 20],\n",
       "        [20, 17, 18],\n",
       "        ...,\n",
       "        [18, 20, 20],\n",
       "        [18, 20, 20],\n",
       "        [18, 20, 20]],\n",
       "\n",
       "       [[18, 20, 20],\n",
       "        [18, 20, 20],\n",
       "        [18, 20, 20],\n",
       "        ...,\n",
       "        [16, 15, 15],\n",
       "        [16, 15, 15],\n",
       "        [ 6,  6,  6]],\n",
       "\n",
       "       ...,\n",
       "\n",
       "       [[ 0,  0,  0],\n",
       "        [ 0,  0,  0],\n",
       "        [ 0,  0,  0],\n",
       "        ...,\n",
       "        [ 0,  0,  0],\n",
       "        [43, 36, 29],\n",
       "        [18, 20, 20]],\n",
       "\n",
       "       [[18, 20, 20],\n",
       "        [16, 17, 20],\n",
       "        [32, 29, 23],\n",
       "        ...,\n",
       "        [ 6,  6,  6],\n",
       "        [18, 20, 20],\n",
       "        [ 1,  5,  3]],\n",
       "\n",
       "       [[20, 17, 18],\n",
       "        [16, 15, 15],\n",
       "        [16, 15, 15],\n",
       "        ...,\n",
       "        [20, 17, 18],\n",
       "        [ 6,  6,  6],\n",
       "        [43, 36, 29]]], dtype=uint8)"
      ]
     },
     "execution_count": 21,
     "metadata": {},
     "output_type": "execute_result"
    }
   ],
   "source": [
    "img"
   ]
  },
  {
   "cell_type": "code",
   "execution_count": null,
   "id": "f4e42d49-3d3b-40ba-b539-18b9e8b062e9",
   "metadata": {},
   "outputs": [],
   "source": []
  }
 ],
 "metadata": {
  "kernelspec": {
   "display_name": "Python 3 (ipykernel)",
   "language": "python",
   "name": "python3"
  },
  "language_info": {
   "codemirror_mode": {
    "name": "ipython",
    "version": 3
   },
   "file_extension": ".py",
   "mimetype": "text/x-python",
   "name": "python",
   "nbconvert_exporter": "python",
   "pygments_lexer": "ipython3",
   "version": "3.9.7"
  }
 },
 "nbformat": 4,
 "nbformat_minor": 5
}
